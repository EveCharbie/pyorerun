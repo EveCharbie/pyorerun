{
 "cells": [
  {
   "cell_type": "code",
   "execution_count": null,
   "id": "aabbe278-4fdb-43ac-b880-4fea8dd0b057",
   "metadata": {},
   "outputs": [],
   "source": [
    "import pyorerun as prr\n",
    "import rerun as rr\n",
    "\n",
    "prr.c3d(\n",
    "    \"Running_0002.c3d\",\n",
    "    show_floor=True,\n",
    "    show_force_plates=True,\n",
    "    show_forces=True,\n",
    "    down_sampled_forces=True,\n",
    "    video=(\"Running_0002_Oqus_6_15004.avi\", \"Running_0002_Oqus_9_15003.avi\"),\n",
    "    notebook=True,\n",
    ")\n",
    "rr.notebook_show(width=1200, height=600)"
   ]
  },
  {
   "cell_type": "code",
   "execution_count": null,
   "id": "a80e92a4-89d4-4d02-b69a-07e22651838b",
   "metadata": {},
   "outputs": [],
   "source": []
  }
 ],
 "metadata": {
  "kernelspec": {
   "display_name": "Python 3 (ipykernel)",
   "language": "python",
   "name": "python3"
  },
  "language_info": {
   "codemirror_mode": {
    "name": "ipython",
    "version": 3
   },
   "file_extension": ".py",
   "mimetype": "text/x-python",
   "name": "python",
   "nbconvert_exporter": "python",
   "pygments_lexer": "ipython3",
   "version": "3.12.3"
  }
 },
 "nbformat": 4,
 "nbformat_minor": 5
}
